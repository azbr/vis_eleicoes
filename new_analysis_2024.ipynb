{
 "cells": [
  {
   "cell_type": "code",
   "execution_count": 2,
   "metadata": {},
   "outputs": [],
   "source": [
    "import os\n",
    "import zipfile\n",
    "import pandas as pd\n",
    "import requests\n",
    "from timeit import default_timer as timer"
   ]
  },
  {
   "cell_type": "markdown",
   "metadata": {},
   "source": [
    "## Load the data from TSE"
   ]
  },
  {
   "cell_type": "code",
   "execution_count": 3,
   "metadata": {},
   "outputs": [],
   "source": [
    "os.makedirs('datasets/new_data/', exist_ok=True)\n",
    "DIRPATH = 'datasets/new_data/'"
   ]
  },
  {
   "cell_type": "code",
   "execution_count": 4,
   "metadata": {},
   "outputs": [],
   "source": [
    "year = 2020\n",
    "BASEURL = f'https://cdn.tse.jus.br/estatistica/sead/odsele/votacao_candidato_munzona/votacao_candidato_munzona_{year}.zip'"
   ]
  },
  {
   "cell_type": "code",
   "execution_count": 5,
   "metadata": {},
   "outputs": [],
   "source": [
    "def download_zip_file(url, filename):\n",
    "    try:\n",
    "        response = requests.get(url, stream=True)\n",
    "        response.raise_for_status()  # Raise an exception for HTTP errors\n",
    "\n",
    "        with open(filename, 'wb') as file:\n",
    "            t_start = timer()\n",
    "            for it, chunk in enumerate(response.iter_content(chunk_size=1024)):\n",
    "                print(f\"Downloaded {it} KB ({it/1024:.2f} MB)\", end='\\r', flush=False)\n",
    "                file.write(chunk)\n",
    "            t_end = timer()\n",
    "            print()\n",
    "            print(f'Took {t_end-t_start:.2f} seconds')\n",
    "\n",
    "        print(f\"Downloaded {filename} successfully!\")\n",
    "\n",
    "    except requests.exceptions.HTTPError as http_err:\n",
    "        print(f\"HTTP error occurred: {http_err}\")\n",
    "    except requests.exceptions.ConnectionError as conn_err:\n",
    "        print(f\"Error connecting to the URL: {conn_err}\")\n",
    "    except requests.exceptions.Timeout as time_err:\n",
    "        print(f\"Timeout error occurred: {time_err}\")\n",
    "    except requests.exceptions.RequestException as err:\n",
    "        print(f\"Something went wrong: {err}\")\n"
   ]
  },
  {
   "cell_type": "code",
   "execution_count": 6,
   "metadata": {},
   "outputs": [],
   "source": [
    "def filter_by_state(zipfile_list : list[zipfile.ZipInfo], state='RJ'):\n",
    "    return list(filter(lambda x: state in x.filename, zipfile_list))[0].filename"
   ]
  },
  {
   "cell_type": "code",
   "execution_count": 7,
   "metadata": {},
   "outputs": [
    {
     "name": "stdout",
     "output_type": "stream",
     "text": [
      "Downloaded 40276 KB (39.33 MB)\n",
      "Took 14.39 seconds\n",
      "Downloaded datasets/new_data/votacao_candidato_munzona_2004.zip successfully!\n",
      "---\n",
      "Downloaded 41670 KB (40.69 MB)\n",
      "Took 10.39 seconds\n",
      "Downloaded datasets/new_data/votacao_candidato_munzona_2008.zip successfully!\n",
      "---\n",
      "Downloaded 56438 KB (55.12 MB)\n",
      "Took 14.66 seconds\n",
      "Downloaded datasets/new_data/votacao_candidato_munzona_2012.zip successfully!\n",
      "---\n",
      "Downloaded 62523 KB (61.06 MB)\n",
      "Took 15.38 seconds\n",
      "Downloaded datasets/new_data/votacao_candidato_munzona_2016.zip successfully!\n",
      "---\n",
      "Downloaded 81120 KB (79.22 MB)\n",
      "Took 21.43 seconds\n",
      "Downloaded datasets/new_data/votacao_candidato_munzona_2020.zip successfully!\n",
      "---\n",
      "Downloaded 197 KB (0.19 MB)\n",
      "Took 0.08 seconds\n",
      "Downloaded datasets/new_data/votacao_candidato_munzona_2024.zip successfully!\n",
      "---\n"
     ]
    }
   ],
   "source": [
    "for year in range(2004,2028,4):\n",
    "    BASEURL = f'https://cdn.tse.jus.br/estatistica/sead/odsele/votacao_candidato_munzona/votacao_candidato_munzona_{year}.zip'\n",
    "    filename = BASEURL.split('/')[-1]\n",
    "    filepath = os.path.join(DIRPATH,filename)\n",
    "    download_zip_file(BASEURL, filepath)\n",
    "    with zipfile.ZipFile(filepath,'r') as zip_ref:\n",
    "        # os.stat(filepath+'/')\n",
    "        zip_ref.extract(filter_by_state(zip_ref.filelist), path = DIRPATH)\n",
    "        print('---')\n",
    "        # os.mkdir(path+str(ano)+'/') \n",
    "    \n",
    "    # for state in estados:\n",
    "    #     zip_ref.extract(std_filename+str(ano)+'_'+state+'.txt',path=path+str(ano)+'/')\n",
    "    #     print(\"Extraindo {} no diretorio {}\".format(std_filename+str(ano)+'_'+state+'.txt',path+str(ano)+'/'))"
   ]
  },
  {
   "cell_type": "markdown",
   "metadata": {},
   "source": [
    "## Process the data"
   ]
  },
  {
   "cell_type": "code",
   "execution_count": 34,
   "metadata": {},
   "outputs": [],
   "source": [
    "df_2020_rj = pd.read_csv('datasets/new_data/votacao_candidato_munzona_2020_RJ.csv', \n",
    "                         delimiter=';', \n",
    "                         encoding='iso-8859-1')"
   ]
  },
  {
   "cell_type": "code",
   "execution_count": 35,
   "metadata": {},
   "outputs": [
    {
     "data": {
      "text/plain": [
       "Index(['DT_GERACAO', 'HH_GERACAO', 'ANO_ELEICAO', 'CD_TIPO_ELEICAO',\n",
       "       'NM_TIPO_ELEICAO', 'NR_TURNO', 'CD_ELEICAO', 'DS_ELEICAO', 'DT_ELEICAO',\n",
       "       'TP_ABRANGENCIA', 'SG_UF', 'SG_UE', 'NM_UE', 'CD_MUNICIPIO',\n",
       "       'NM_MUNICIPIO', 'NR_ZONA', 'CD_CARGO', 'DS_CARGO', 'SQ_CANDIDATO',\n",
       "       'NR_CANDIDATO', 'NM_CANDIDATO', 'NM_URNA_CANDIDATO',\n",
       "       'NM_SOCIAL_CANDIDATO', 'CD_SITUACAO_CANDIDATURA',\n",
       "       'DS_SITUACAO_CANDIDATURA', 'CD_DETALHE_SITUACAO_CAND',\n",
       "       'DS_DETALHE_SITUACAO_CAND', 'TP_AGREMIACAO', 'NR_PARTIDO', 'SG_PARTIDO',\n",
       "       'NM_PARTIDO', 'NR_FEDERACAO', 'NM_FEDERACAO', 'SG_FEDERACAO',\n",
       "       'DS_COMPOSICAO_FEDERACAO', 'SQ_COLIGACAO', 'NM_COLIGACAO',\n",
       "       'DS_COMPOSICAO_COLIGACAO', 'ST_VOTO_EM_TRANSITO', 'QT_VOTOS_NOMINAIS',\n",
       "       'NM_TIPO_DESTINACAO_VOTOS', 'QT_VOTOS_NOMINAIS_VALIDOS',\n",
       "       'CD_SIT_TOT_TURNO', 'DS_SIT_TOT_TURNO'],\n",
       "      dtype='object')"
      ]
     },
     "execution_count": 35,
     "metadata": {},
     "output_type": "execute_result"
    }
   ],
   "source": [
    "df_2020_rj.columns"
   ]
  },
  {
   "cell_type": "code",
   "execution_count": 36,
   "metadata": {},
   "outputs": [
    {
     "data": {
      "text/plain": [
       "(131270, 44)"
      ]
     },
     "execution_count": 36,
     "metadata": {},
     "output_type": "execute_result"
    }
   ],
   "source": [
    "df_2020_rj.shape"
   ]
  },
  {
   "cell_type": "code",
   "execution_count": 38,
   "metadata": {},
   "outputs": [
    {
     "data": {
      "text/plain": [
       "ANO_ELEICAO\n",
       "2020    131270\n",
       "Name: count, dtype: int64"
      ]
     },
     "execution_count": 38,
     "metadata": {},
     "output_type": "execute_result"
    }
   ],
   "source": [
    "df_2020_rj['ANO_ELEICAO'].value_counts()"
   ]
  },
  {
   "cell_type": "code",
   "execution_count": 39,
   "metadata": {},
   "outputs": [
    {
     "data": {
      "text/plain": [
       "DS_CARGO\n",
       "Vereador    129596\n",
       "Prefeito      1674\n",
       "Name: count, dtype: int64"
      ]
     },
     "execution_count": 39,
     "metadata": {},
     "output_type": "execute_result"
    }
   ],
   "source": [
    "df_2020_rj['DS_CARGO'].value_counts()"
   ]
  },
  {
   "cell_type": "code",
   "execution_count": 43,
   "metadata": {},
   "outputs": [
    {
     "data": {
      "text/plain": [
       "NM_MUNICIPIO\n",
       "RIO DE JANEIRO           83643\n",
       "SÃO GONÇALO               6489\n",
       "DUQUE DE CAXIAS           4788\n",
       "SÃO JOÃO DE MERITI        2828\n",
       "NITERÓI                   2760\n",
       "                         ...  \n",
       "VARRE-SAI                   59\n",
       "SÃO JOSÉ DE UBÁ             57\n",
       "MACUCO                      57\n",
       "SÃO SEBASTIÃO DO ALTO       36\n",
       "LAJE DO MURIAÉ              30\n",
       "Name: count, Length: 92, dtype: int64"
      ]
     },
     "execution_count": 43,
     "metadata": {},
     "output_type": "execute_result"
    }
   ],
   "source": [
    "df_2020_rj['NM_MUNICIPIO'].value_counts()"
   ]
  },
  {
   "cell_type": "code",
   "execution_count": null,
   "metadata": {},
   "outputs": [],
   "source": []
  }
 ],
 "metadata": {
  "kernelspec": {
   "display_name": "Python 3",
   "language": "python",
   "name": "python3"
  },
  "language_info": {
   "codemirror_mode": {
    "name": "ipython",
    "version": 3
   },
   "file_extension": ".py",
   "mimetype": "text/x-python",
   "name": "python",
   "nbconvert_exporter": "python",
   "pygments_lexer": "ipython3",
   "version": "3.10.13"
  }
 },
 "nbformat": 4,
 "nbformat_minor": 2
}

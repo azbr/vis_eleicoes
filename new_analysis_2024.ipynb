{
 "cells": [
  {
   "cell_type": "code",
   "execution_count": 2,
   "metadata": {},
   "outputs": [],
   "source": [
    "import os\n",
    "import zipfile\n",
    "import pandas as pd\n",
    "import requests\n",
    "from timeit import default_timer as timer"
   ]
  },
  {
   "cell_type": "markdown",
   "metadata": {},
   "source": [
    "## Load the data from TSE"
   ]
  },
  {
   "cell_type": "code",
   "execution_count": 3,
   "metadata": {},
   "outputs": [],
   "source": [
    "os.makedirs('datasets/new_data/', exist_ok=True)\n",
    "DIRPATH = 'datasets/new_data/'"
   ]
  },
  {
   "cell_type": "code",
   "execution_count": 4,
   "metadata": {},
   "outputs": [],
   "source": [
    "year = 2020\n",
    "BASEURL = f'https://cdn.tse.jus.br/estatistica/sead/odsele/votacao_candidato_munzona/votacao_candidato_munzona_{year}.zip'"
   ]
  },
  {
   "cell_type": "code",
   "execution_count": 5,
   "metadata": {},
   "outputs": [],
   "source": [
    "def download_zip_file(url, filename):\n",
    "    try:\n",
    "        response = requests.get(url, stream=True)\n",
    "        response.raise_for_status()  # Raise an exception for HTTP errors\n",
    "\n",
    "        with open(filename, 'wb') as file:\n",
    "            t_start = timer()\n",
    "            for it, chunk in enumerate(response.iter_content(chunk_size=1024)):\n",
    "                print(f\"Downloaded {it} KB ({it/1024:.2f} MB)\", end='\\r', flush=False)\n",
    "                file.write(chunk)\n",
    "            t_end = timer()\n",
    "            print()\n",
    "            print(f'Took {t_end-t_start:.2f} seconds')\n",
    "\n",
    "        print(f\"Downloaded {filename} successfully!\")\n",
    "\n",
    "    except requests.exceptions.HTTPError as http_err:\n",
    "        print(f\"HTTP error occurred: {http_err}\")\n",
    "    except requests.exceptions.ConnectionError as conn_err:\n",
    "        print(f\"Error connecting to the URL: {conn_err}\")\n",
    "    except requests.exceptions.Timeout as time_err:\n",
    "        print(f\"Timeout error occurred: {time_err}\")\n",
    "    except requests.exceptions.RequestException as err:\n",
    "        print(f\"Something went wrong: {err}\")\n"
   ]
  },
  {
   "cell_type": "code",
   "execution_count": 6,
   "metadata": {},
   "outputs": [],
   "source": [
    "def filter_by_state(zipfile_list : list[zipfile.ZipInfo], state='RJ'):\n",
    "    return list(filter(lambda x: state in x.filename, zipfile_list))[0].filename"
   ]
  },
  {
   "cell_type": "code",
   "execution_count": 7,
   "metadata": {},
   "outputs": [
    {
     "name": "stdout",
     "output_type": "stream",
     "text": [
      "Downloaded 40276 KB (39.33 MB)\n",
      "Took 14.39 seconds\n",
      "Downloaded datasets/new_data/votacao_candidato_munzona_2004.zip successfully!\n",
      "---\n",
      "Downloaded 41670 KB (40.69 MB)\n",
      "Took 10.39 seconds\n",
      "Downloaded datasets/new_data/votacao_candidato_munzona_2008.zip successfully!\n",
      "---\n",
      "Downloaded 56438 KB (55.12 MB)\n",
      "Took 14.66 seconds\n",
      "Downloaded datasets/new_data/votacao_candidato_munzona_2012.zip successfully!\n",
      "---\n",
      "Downloaded 62523 KB (61.06 MB)\n",
      "Took 15.38 seconds\n",
      "Downloaded datasets/new_data/votacao_candidato_munzona_2016.zip successfully!\n",
      "---\n",
      "Downloaded 81120 KB (79.22 MB)\n",
      "Took 21.43 seconds\n",
      "Downloaded datasets/new_data/votacao_candidato_munzona_2020.zip successfully!\n",
      "---\n",
      "Downloaded 197 KB (0.19 MB)\n",
      "Took 0.08 seconds\n",
      "Downloaded datasets/new_data/votacao_candidato_munzona_2024.zip successfully!\n",
      "---\n"
     ]
    }
   ],
   "source": [
    "for year in range(2004,2028,4):\n",
    "    BASEURL = f'https://cdn.tse.jus.br/estatistica/sead/odsele/votacao_candidato_munzona/votacao_candidato_munzona_{year}.zip'\n",
    "    filename = BASEURL.split('/')[-1]\n",
    "    filepath = os.path.join(DIRPATH,filename)\n",
    "    download_zip_file(BASEURL, filepath)\n",
    "    with zipfile.ZipFile(filepath,'r') as zip_ref:\n",
    "        # os.stat(filepath+'/')\n",
    "        zip_ref.extract(filter_by_state(zip_ref.filelist), path = DIRPATH)\n",
    "        print('---')\n",
    "        # os.mkdir(path+str(ano)+'/') \n",
    "    \n",
    "    # for state in estados:\n",
    "    #     zip_ref.extract(std_filename+str(ano)+'_'+state+'.txt',path=path+str(ano)+'/')\n",
    "    #     print(\"Extraindo {} no diretorio {}\".format(std_filename+str(ano)+'_'+state+'.txt',path+str(ano)+'/'))"
   ]
  },
  {
   "cell_type": "markdown",
   "metadata": {},
   "source": [
    "## Process the data"
   ]
  },
  {
   "cell_type": "code",
   "execution_count": 8,
   "metadata": {},
   "outputs": [],
   "source": [
    "df_2020_rj = pd.read_csv('datasets/new_data/votacao_candidato_munzona_2020_RJ.csv', \n",
    "                         delimiter=';', \n",
    "                         encoding='iso-8859-1')"
   ]
  },
  {
   "cell_type": "code",
   "execution_count": 9,
   "metadata": {},
   "outputs": [
    {
     "data": {
      "text/html": [
       "<div>\n",
       "<style scoped>\n",
       "    .dataframe tbody tr th:only-of-type {\n",
       "        vertical-align: middle;\n",
       "    }\n",
       "\n",
       "    .dataframe tbody tr th {\n",
       "        vertical-align: top;\n",
       "    }\n",
       "\n",
       "    .dataframe thead th {\n",
       "        text-align: right;\n",
       "    }\n",
       "</style>\n",
       "<table border=\"1\" class=\"dataframe\">\n",
       "  <thead>\n",
       "    <tr style=\"text-align: right;\">\n",
       "      <th></th>\n",
       "      <th>DT_GERACAO</th>\n",
       "      <th>HH_GERACAO</th>\n",
       "      <th>ANO_ELEICAO</th>\n",
       "      <th>CD_TIPO_ELEICAO</th>\n",
       "      <th>NM_TIPO_ELEICAO</th>\n",
       "      <th>NR_TURNO</th>\n",
       "      <th>CD_ELEICAO</th>\n",
       "      <th>DS_ELEICAO</th>\n",
       "      <th>DT_ELEICAO</th>\n",
       "      <th>TP_ABRANGENCIA</th>\n",
       "      <th>...</th>\n",
       "      <th>DS_COMPOSICAO_FEDERACAO</th>\n",
       "      <th>SQ_COLIGACAO</th>\n",
       "      <th>NM_COLIGACAO</th>\n",
       "      <th>DS_COMPOSICAO_COLIGACAO</th>\n",
       "      <th>ST_VOTO_EM_TRANSITO</th>\n",
       "      <th>QT_VOTOS_NOMINAIS</th>\n",
       "      <th>NM_TIPO_DESTINACAO_VOTOS</th>\n",
       "      <th>QT_VOTOS_NOMINAIS_VALIDOS</th>\n",
       "      <th>CD_SIT_TOT_TURNO</th>\n",
       "      <th>DS_SIT_TOT_TURNO</th>\n",
       "    </tr>\n",
       "  </thead>\n",
       "  <tbody>\n",
       "    <tr>\n",
       "      <th>0</th>\n",
       "      <td>25/07/2024</td>\n",
       "      <td>01:35:19</td>\n",
       "      <td>2020</td>\n",
       "      <td>2</td>\n",
       "      <td>Eleição Ordinária</td>\n",
       "      <td>1</td>\n",
       "      <td>426</td>\n",
       "      <td>Eleições Municipais 2020</td>\n",
       "      <td>15/11/2020</td>\n",
       "      <td>M</td>\n",
       "      <td>...</td>\n",
       "      <td>#NULO#</td>\n",
       "      <td>190000108618</td>\n",
       "      <td>PARTIDO ISOLADO</td>\n",
       "      <td>SOLIDARIEDADE</td>\n",
       "      <td>N</td>\n",
       "      <td>0</td>\n",
       "      <td>Válido</td>\n",
       "      <td>0</td>\n",
       "      <td>4</td>\n",
       "      <td>NÃO ELEITO</td>\n",
       "    </tr>\n",
       "    <tr>\n",
       "      <th>1</th>\n",
       "      <td>25/07/2024</td>\n",
       "      <td>01:35:19</td>\n",
       "      <td>2020</td>\n",
       "      <td>2</td>\n",
       "      <td>Eleição Ordinária</td>\n",
       "      <td>1</td>\n",
       "      <td>426</td>\n",
       "      <td>Eleições Municipais 2020</td>\n",
       "      <td>15/11/2020</td>\n",
       "      <td>M</td>\n",
       "      <td>...</td>\n",
       "      <td>#NULO#</td>\n",
       "      <td>190000160425</td>\n",
       "      <td>PARTIDO ISOLADO</td>\n",
       "      <td>PMB</td>\n",
       "      <td>N</td>\n",
       "      <td>8</td>\n",
       "      <td>Válido</td>\n",
       "      <td>8</td>\n",
       "      <td>4</td>\n",
       "      <td>NÃO ELEITO</td>\n",
       "    </tr>\n",
       "    <tr>\n",
       "      <th>2</th>\n",
       "      <td>25/07/2024</td>\n",
       "      <td>01:35:19</td>\n",
       "      <td>2020</td>\n",
       "      <td>2</td>\n",
       "      <td>Eleição Ordinária</td>\n",
       "      <td>1</td>\n",
       "      <td>426</td>\n",
       "      <td>Eleições Municipais 2020</td>\n",
       "      <td>15/11/2020</td>\n",
       "      <td>M</td>\n",
       "      <td>...</td>\n",
       "      <td>#NULO#</td>\n",
       "      <td>190000160425</td>\n",
       "      <td>PARTIDO ISOLADO</td>\n",
       "      <td>PMB</td>\n",
       "      <td>N</td>\n",
       "      <td>2</td>\n",
       "      <td>Válido</td>\n",
       "      <td>2</td>\n",
       "      <td>4</td>\n",
       "      <td>NÃO ELEITO</td>\n",
       "    </tr>\n",
       "    <tr>\n",
       "      <th>3</th>\n",
       "      <td>25/07/2024</td>\n",
       "      <td>01:35:19</td>\n",
       "      <td>2020</td>\n",
       "      <td>2</td>\n",
       "      <td>Eleição Ordinária</td>\n",
       "      <td>1</td>\n",
       "      <td>426</td>\n",
       "      <td>Eleições Municipais 2020</td>\n",
       "      <td>15/11/2020</td>\n",
       "      <td>M</td>\n",
       "      <td>...</td>\n",
       "      <td>#NULO#</td>\n",
       "      <td>190000160425</td>\n",
       "      <td>PARTIDO ISOLADO</td>\n",
       "      <td>PMB</td>\n",
       "      <td>N</td>\n",
       "      <td>24</td>\n",
       "      <td>Válido</td>\n",
       "      <td>24</td>\n",
       "      <td>4</td>\n",
       "      <td>NÃO ELEITO</td>\n",
       "    </tr>\n",
       "    <tr>\n",
       "      <th>4</th>\n",
       "      <td>25/07/2024</td>\n",
       "      <td>01:35:19</td>\n",
       "      <td>2020</td>\n",
       "      <td>2</td>\n",
       "      <td>Eleição Ordinária</td>\n",
       "      <td>1</td>\n",
       "      <td>426</td>\n",
       "      <td>Eleições Municipais 2020</td>\n",
       "      <td>15/11/2020</td>\n",
       "      <td>M</td>\n",
       "      <td>...</td>\n",
       "      <td>#NULO#</td>\n",
       "      <td>190000160425</td>\n",
       "      <td>PARTIDO ISOLADO</td>\n",
       "      <td>PMB</td>\n",
       "      <td>N</td>\n",
       "      <td>15</td>\n",
       "      <td>Válido</td>\n",
       "      <td>15</td>\n",
       "      <td>4</td>\n",
       "      <td>NÃO ELEITO</td>\n",
       "    </tr>\n",
       "  </tbody>\n",
       "</table>\n",
       "<p>5 rows × 44 columns</p>\n",
       "</div>"
      ],
      "text/plain": [
       "   DT_GERACAO HH_GERACAO  ANO_ELEICAO  CD_TIPO_ELEICAO    NM_TIPO_ELEICAO  \\\n",
       "0  25/07/2024   01:35:19         2020                2  Eleição Ordinária   \n",
       "1  25/07/2024   01:35:19         2020                2  Eleição Ordinária   \n",
       "2  25/07/2024   01:35:19         2020                2  Eleição Ordinária   \n",
       "3  25/07/2024   01:35:19         2020                2  Eleição Ordinária   \n",
       "4  25/07/2024   01:35:19         2020                2  Eleição Ordinária   \n",
       "\n",
       "   NR_TURNO  CD_ELEICAO                DS_ELEICAO  DT_ELEICAO TP_ABRANGENCIA  \\\n",
       "0         1         426  Eleições Municipais 2020  15/11/2020              M   \n",
       "1         1         426  Eleições Municipais 2020  15/11/2020              M   \n",
       "2         1         426  Eleições Municipais 2020  15/11/2020              M   \n",
       "3         1         426  Eleições Municipais 2020  15/11/2020              M   \n",
       "4         1         426  Eleições Municipais 2020  15/11/2020              M   \n",
       "\n",
       "   ... DS_COMPOSICAO_FEDERACAO  SQ_COLIGACAO     NM_COLIGACAO  \\\n",
       "0  ...                  #NULO#  190000108618  PARTIDO ISOLADO   \n",
       "1  ...                  #NULO#  190000160425  PARTIDO ISOLADO   \n",
       "2  ...                  #NULO#  190000160425  PARTIDO ISOLADO   \n",
       "3  ...                  #NULO#  190000160425  PARTIDO ISOLADO   \n",
       "4  ...                  #NULO#  190000160425  PARTIDO ISOLADO   \n",
       "\n",
       "   DS_COMPOSICAO_COLIGACAO ST_VOTO_EM_TRANSITO  QT_VOTOS_NOMINAIS  \\\n",
       "0            SOLIDARIEDADE                   N                  0   \n",
       "1                      PMB                   N                  8   \n",
       "2                      PMB                   N                  2   \n",
       "3                      PMB                   N                 24   \n",
       "4                      PMB                   N                 15   \n",
       "\n",
       "   NM_TIPO_DESTINACAO_VOTOS QT_VOTOS_NOMINAIS_VALIDOS  CD_SIT_TOT_TURNO  \\\n",
       "0                    Válido                         0                 4   \n",
       "1                    Válido                         8                 4   \n",
       "2                    Válido                         2                 4   \n",
       "3                    Válido                        24                 4   \n",
       "4                    Válido                        15                 4   \n",
       "\n",
       "   DS_SIT_TOT_TURNO  \n",
       "0        NÃO ELEITO  \n",
       "1        NÃO ELEITO  \n",
       "2        NÃO ELEITO  \n",
       "3        NÃO ELEITO  \n",
       "4        NÃO ELEITO  \n",
       "\n",
       "[5 rows x 44 columns]"
      ]
     },
     "execution_count": 9,
     "metadata": {},
     "output_type": "execute_result"
    }
   ],
   "source": [
    "df_2020_rj.head()"
   ]
  },
  {
   "cell_type": "code",
   "execution_count": null,
   "metadata": {},
   "outputs": [
    {
     "data": {
      "text/plain": [
       "(131270, 44)"
      ]
     },
     "metadata": {},
     "output_type": "display_data"
    }
   ],
   "source": [
    "df_2020_rj.shape"
   ]
  },
  {
   "cell_type": "code",
   "execution_count": 19,
   "metadata": {},
   "outputs": [
    {
     "data": {
      "text/plain": [
       "Index(['DT_GERACAO', 'HH_GERACAO', 'ANO_ELEICAO', 'CD_TIPO_ELEICAO',\n",
       "       'NM_TIPO_ELEICAO', 'NR_TURNO', 'CD_ELEICAO', 'DS_ELEICAO', 'DT_ELEICAO',\n",
       "       'TP_ABRANGENCIA', 'SG_UF', 'SG_UE', 'NM_UE', 'CD_MUNICIPIO',\n",
       "       'NM_MUNICIPIO', 'NR_ZONA', 'CD_CARGO', 'DS_CARGO', 'SQ_CANDIDATO',\n",
       "       'NR_CANDIDATO', 'NM_CANDIDATO', 'NM_URNA_CANDIDATO',\n",
       "       'NM_SOCIAL_CANDIDATO', 'CD_SITUACAO_CANDIDATURA',\n",
       "       'DS_SITUACAO_CANDIDATURA', 'CD_DETALHE_SITUACAO_CAND',\n",
       "       'DS_DETALHE_SITUACAO_CAND', 'TP_AGREMIACAO', 'NR_PARTIDO', 'SG_PARTIDO',\n",
       "       'NM_PARTIDO', 'NR_FEDERACAO', 'NM_FEDERACAO', 'SG_FEDERACAO',\n",
       "       'DS_COMPOSICAO_FEDERACAO', 'SQ_COLIGACAO', 'NM_COLIGACAO',\n",
       "       'DS_COMPOSICAO_COLIGACAO', 'ST_VOTO_EM_TRANSITO', 'QT_VOTOS_NOMINAIS',\n",
       "       'NM_TIPO_DESTINACAO_VOTOS', 'QT_VOTOS_NOMINAIS_VALIDOS',\n",
       "       'CD_SIT_TOT_TURNO', 'DS_SIT_TOT_TURNO'],\n",
       "      dtype='object')"
      ]
     },
     "execution_count": 19,
     "metadata": {},
     "output_type": "execute_result"
    }
   ],
   "source": [
    "df_2020_rj.columns"
   ]
  },
  {
   "cell_type": "code",
   "execution_count": null,
   "metadata": {},
   "outputs": [
    {
     "data": {
      "text/html": [
       "<div>\n",
       "<style scoped>\n",
       "    .dataframe tbody tr th:only-of-type {\n",
       "        vertical-align: middle;\n",
       "    }\n",
       "\n",
       "    .dataframe tbody tr th {\n",
       "        vertical-align: top;\n",
       "    }\n",
       "\n",
       "    .dataframe thead th {\n",
       "        text-align: right;\n",
       "    }\n",
       "</style>\n",
       "<table border=\"1\" class=\"dataframe\">\n",
       "  <thead>\n",
       "    <tr style=\"text-align: right;\">\n",
       "      <th></th>\n",
       "      <th></th>\n",
       "      <th>DT_GERACAO</th>\n",
       "    </tr>\n",
       "    <tr>\n",
       "      <th>CD_SIT_TOT_TURNO</th>\n",
       "      <th>DS_SIT_TOT_TURNO</th>\n",
       "      <th></th>\n",
       "    </tr>\n",
       "  </thead>\n",
       "  <tbody>\n",
       "    <tr>\n",
       "      <th>1</th>\n",
       "      <th>ELEITO</th>\n",
       "      <td>183</td>\n",
       "    </tr>\n",
       "    <tr>\n",
       "      <th>2</th>\n",
       "      <th>ELEITO POR QP</th>\n",
       "      <td>2893</td>\n",
       "    </tr>\n",
       "    <tr>\n",
       "      <th>3</th>\n",
       "      <th>ELEITO POR MÉDIA</th>\n",
       "      <td>1633</td>\n",
       "    </tr>\n",
       "    <tr>\n",
       "      <th>4</th>\n",
       "      <th>NÃO ELEITO</th>\n",
       "      <td>36364</td>\n",
       "    </tr>\n",
       "    <tr>\n",
       "      <th>5</th>\n",
       "      <th>SUPLENTE</th>\n",
       "      <td>90065</td>\n",
       "    </tr>\n",
       "    <tr>\n",
       "      <th>6</th>\n",
       "      <th>2º TURNO</th>\n",
       "      <td>132</td>\n",
       "    </tr>\n",
       "  </tbody>\n",
       "</table>\n",
       "</div>"
      ],
      "text/plain": [
       "                                   DT_GERACAO\n",
       "CD_SIT_TOT_TURNO DS_SIT_TOT_TURNO            \n",
       "1                ELEITO                   183\n",
       "2                ELEITO POR QP           2893\n",
       "3                ELEITO POR MÉDIA        1633\n",
       "4                NÃO ELEITO             36364\n",
       "5                SUPLENTE               90065\n",
       "6                2º TURNO                 132"
      ]
     },
     "metadata": {},
     "output_type": "display_data"
    }
   ],
   "source": [
    "df_2020_rj.groupby([\"CD_SIT_TOT_TURNO\", \"DS_SIT_TOT_TURNO\"]).agg('count')[['DT_GERACAO']]"
   ]
  },
  {
   "cell_type": "code",
   "execution_count": 22,
   "metadata": {},
   "outputs": [
    {
     "data": {
      "text/html": [
       "<div>\n",
       "<style scoped>\n",
       "    .dataframe tbody tr th:only-of-type {\n",
       "        vertical-align: middle;\n",
       "    }\n",
       "\n",
       "    .dataframe tbody tr th {\n",
       "        vertical-align: top;\n",
       "    }\n",
       "\n",
       "    .dataframe thead th {\n",
       "        text-align: right;\n",
       "    }\n",
       "</style>\n",
       "<table border=\"1\" class=\"dataframe\">\n",
       "  <thead>\n",
       "    <tr style=\"text-align: right;\">\n",
       "      <th></th>\n",
       "      <th></th>\n",
       "      <th>DT_GERACAO</th>\n",
       "    </tr>\n",
       "    <tr>\n",
       "      <th>CD_CARGO</th>\n",
       "      <th>DS_CARGO</th>\n",
       "      <th></th>\n",
       "    </tr>\n",
       "  </thead>\n",
       "  <tbody>\n",
       "    <tr>\n",
       "      <th>11</th>\n",
       "      <th>Prefeito</th>\n",
       "      <td>1674</td>\n",
       "    </tr>\n",
       "    <tr>\n",
       "      <th>13</th>\n",
       "      <th>Vereador</th>\n",
       "      <td>129596</td>\n",
       "    </tr>\n",
       "  </tbody>\n",
       "</table>\n",
       "</div>"
      ],
      "text/plain": [
       "                   DT_GERACAO\n",
       "CD_CARGO DS_CARGO            \n",
       "11       Prefeito        1674\n",
       "13       Vereador      129596"
      ]
     },
     "execution_count": 22,
     "metadata": {},
     "output_type": "execute_result"
    }
   ],
   "source": [
    "df_2020_rj.groupby([\"CD_CARGO\", \"DS_CARGO\"]).agg('count')[['DT_GERACAO']]"
   ]
  },
  {
   "cell_type": "code",
   "execution_count": 38,
   "metadata": {},
   "outputs": [
    {
     "data": {
      "text/plain": [
       "ANO_ELEICAO\n",
       "2020    131270\n",
       "Name: count, dtype: int64"
      ]
     },
     "execution_count": 38,
     "metadata": {},
     "output_type": "execute_result"
    }
   ],
   "source": [
    "df_2020_rj['ANO_ELEICAO'].value_counts()"
   ]
  },
  {
   "cell_type": "code",
   "execution_count": 39,
   "metadata": {},
   "outputs": [
    {
     "data": {
      "text/plain": [
       "DS_CARGO\n",
       "Vereador    129596\n",
       "Prefeito      1674\n",
       "Name: count, dtype: int64"
      ]
     },
     "execution_count": 39,
     "metadata": {},
     "output_type": "execute_result"
    }
   ],
   "source": [
    "df_2020_rj['DS_CARGO'].value_counts()"
   ]
  },
  {
   "cell_type": "code",
   "execution_count": 43,
   "metadata": {},
   "outputs": [
    {
     "data": {
      "text/plain": [
       "NM_MUNICIPIO\n",
       "RIO DE JANEIRO           83643\n",
       "SÃO GONÇALO               6489\n",
       "DUQUE DE CAXIAS           4788\n",
       "SÃO JOÃO DE MERITI        2828\n",
       "NITERÓI                   2760\n",
       "                         ...  \n",
       "VARRE-SAI                   59\n",
       "SÃO JOSÉ DE UBÁ             57\n",
       "MACUCO                      57\n",
       "SÃO SEBASTIÃO DO ALTO       36\n",
       "LAJE DO MURIAÉ              30\n",
       "Name: count, Length: 92, dtype: int64"
      ]
     },
     "execution_count": 43,
     "metadata": {},
     "output_type": "execute_result"
    }
   ],
   "source": [
    "df_2020_rj['NM_MUNICIPIO'].value_counts()"
   ]
  },
  {
   "cell_type": "markdown",
   "metadata": {},
   "source": [
    "### O que acontece quando temos o 2º turno?  \n",
    "### What happens when we have the 2nd turn?"
   ]
  },
  {
   "cell_type": "code",
   "execution_count": 24,
   "metadata": {},
   "outputs": [
    {
     "data": {
      "text/html": [
       "<div>\n",
       "<style scoped>\n",
       "    .dataframe tbody tr th:only-of-type {\n",
       "        vertical-align: middle;\n",
       "    }\n",
       "\n",
       "    .dataframe tbody tr th {\n",
       "        vertical-align: top;\n",
       "    }\n",
       "\n",
       "    .dataframe thead th {\n",
       "        text-align: right;\n",
       "    }\n",
       "</style>\n",
       "<table border=\"1\" class=\"dataframe\">\n",
       "  <thead>\n",
       "    <tr style=\"text-align: right;\">\n",
       "      <th></th>\n",
       "      <th></th>\n",
       "      <th>DT_GERACAO</th>\n",
       "    </tr>\n",
       "    <tr>\n",
       "      <th>CD_CARGO</th>\n",
       "      <th>DS_CARGO</th>\n",
       "      <th></th>\n",
       "    </tr>\n",
       "  </thead>\n",
       "  <tbody>\n",
       "    <tr>\n",
       "      <th>11</th>\n",
       "      <th>Prefeito</th>\n",
       "      <td>132</td>\n",
       "    </tr>\n",
       "  </tbody>\n",
       "</table>\n",
       "</div>"
      ],
      "text/plain": [
       "                   DT_GERACAO\n",
       "CD_CARGO DS_CARGO            \n",
       "11       Prefeito         132"
      ]
     },
     "execution_count": 24,
     "metadata": {},
     "output_type": "execute_result"
    }
   ],
   "source": [
    "# CD_SIT_TOT_TURNO == 6 # SEGUNDO TURNO\n",
    "df_2020_rj.loc[df_2020_rj.CD_SIT_TOT_TURNO == 6]\\\n",
    "    .groupby(['CD_CARGO', 'DS_CARGO']).agg('count')[['DT_GERACAO']]"
   ]
  },
  {
   "cell_type": "code",
   "execution_count": 34,
   "metadata": {},
   "outputs": [],
   "source": [
    "df_2020_rj.loc[(df_2020_rj.CD_SIT_TOT_TURNO == 6) & (df_2020_rj.NM_MUNICIPIO == 'PETRÓPOLIS'), ]\\\n",
    "    .to_csv('datasets/new_data/segundo_turno_prefeito.csv', \n",
    "        sep=';', \n",
    "        encoding='utf-8', \n",
    "        index=False)"
   ]
  },
  {
   "cell_type": "code",
   "execution_count": 35,
   "metadata": {},
   "outputs": [
    {
     "data": {
      "text/html": [
       "<div>\n",
       "<style scoped>\n",
       "    .dataframe tbody tr th:only-of-type {\n",
       "        vertical-align: middle;\n",
       "    }\n",
       "\n",
       "    .dataframe tbody tr th {\n",
       "        vertical-align: top;\n",
       "    }\n",
       "\n",
       "    .dataframe thead th {\n",
       "        text-align: right;\n",
       "    }\n",
       "</style>\n",
       "<table border=\"1\" class=\"dataframe\">\n",
       "  <thead>\n",
       "    <tr style=\"text-align: right;\">\n",
       "      <th></th>\n",
       "      <th>DT_GERACAO</th>\n",
       "    </tr>\n",
       "    <tr>\n",
       "      <th>NM_MUNICIPIO</th>\n",
       "      <th></th>\n",
       "    </tr>\n",
       "  </thead>\n",
       "  <tbody>\n",
       "    <tr>\n",
       "      <th>CAMPOS DOS GOYTACAZES</th>\n",
       "      <td>8</td>\n",
       "    </tr>\n",
       "    <tr>\n",
       "      <th>PETRÓPOLIS</th>\n",
       "      <td>4</td>\n",
       "    </tr>\n",
       "    <tr>\n",
       "      <th>RIO DE JANEIRO</th>\n",
       "      <td>98</td>\n",
       "    </tr>\n",
       "    <tr>\n",
       "      <th>SÃO GONÇALO</th>\n",
       "      <td>14</td>\n",
       "    </tr>\n",
       "    <tr>\n",
       "      <th>SÃO JOÃO DE MERITI</th>\n",
       "      <td>8</td>\n",
       "    </tr>\n",
       "  </tbody>\n",
       "</table>\n",
       "</div>"
      ],
      "text/plain": [
       "                       DT_GERACAO\n",
       "NM_MUNICIPIO                     \n",
       "CAMPOS DOS GOYTACAZES           8\n",
       "PETRÓPOLIS                      4\n",
       "RIO DE JANEIRO                 98\n",
       "SÃO GONÇALO                    14\n",
       "SÃO JOÃO DE MERITI              8"
      ]
     },
     "execution_count": 35,
     "metadata": {},
     "output_type": "execute_result"
    }
   ],
   "source": [
    "df_2020_rj.loc[(df_2020_rj.CD_SIT_TOT_TURNO == 6) & (df_2020_rj.CD_CARGO == 11), ].groupby(['NM_MUNICIPIO']).agg('count')[['DT_GERACAO']]"
   ]
  },
  {
   "cell_type": "markdown",
   "metadata": {},
   "source": [
    "Como esperado, apenas prefeitos.."
   ]
  },
  {
   "cell_type": "markdown",
   "metadata": {},
   "source": [
    "Após diversas análises, verificou-se que:\n",
    "- Os candidatos a prefeito eleitos em 2o turno aparecem com registros unicamente referentes ao 2o turno, e não ao 1o.\n",
    "- Corroborando o fato acima, os registro com situacao 'ELEITO' (CD_SIT_TOT_TURNO == 1) correspondem APENAS ao 1o turno.\n",
    "- Vereadores podem ser eleitos pelos codigos (CD_SIT_TOT_TURNO = 1 ou 2 ou 3).\n",
    "\n",
    "Conclusao, faltam os dados de 2o turno, pois não estao presentes nos referidos arquivos."
   ]
  }
 ],
 "metadata": {
  "kernelspec": {
   "display_name": "Python 3",
   "language": "python",
   "name": "python3"
  },
  "language_info": {
   "codemirror_mode": {
    "name": "ipython",
    "version": 3
   },
   "file_extension": ".py",
   "mimetype": "text/x-python",
   "name": "python",
   "nbconvert_exporter": "python",
   "pygments_lexer": "ipython3",
   "version": "3.10.13"
  }
 },
 "nbformat": 4,
 "nbformat_minor": 2
}
